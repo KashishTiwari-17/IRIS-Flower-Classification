{
  "nbformat": 4,
  "nbformat_minor": 0,
  "metadata": {
    "colab": {
      "provenance": [],
      "authorship_tag": "ABX9TyOmYqQJYun29Eq1yPq0DoCH",
      "include_colab_link": true
    },
    "kernelspec": {
      "name": "python3",
      "display_name": "Python 3"
    },
    "language_info": {
      "name": "python"
    }
  },
  "cells": [
    {
      "cell_type": "markdown",
      "metadata": {
        "id": "view-in-github",
        "colab_type": "text"
      },
      "source": [
        "<a href=\"https://colab.research.google.com/github/KashishTiwari-17/OIBSIP_Data-Science_task1/blob/main/task1%5Biris_classification%5D.ipynb\" target=\"_parent\"><img src=\"https://colab.research.google.com/assets/colab-badge.svg\" alt=\"Open In Colab\"/></a>"
      ]
    },
    {
      "cell_type": "code",
      "execution_count": null,
      "metadata": {
        "colab": {
          "base_uri": "https://localhost:8080/"
        },
        "id": "bNJ_10oB0Wa4",
        "outputId": "04ac244b-75d6-45cf-fcf0-be4d265d8afd"
      },
      "outputs": [
        {
          "output_type": "stream",
          "name": "stdout",
          "text": [
            "📊 Sample Data:\n",
            "    Id  SepalLengthCm  SepalWidthCm  PetalLengthCm  PetalWidthCm      Species\n",
            "0   1            5.1           3.5            1.4           0.2  Iris-setosa\n",
            "1   2            4.9           3.0            1.4           0.2  Iris-setosa\n",
            "2   3            4.7           3.2            1.3           0.2  Iris-setosa\n",
            "3   4            4.6           3.1            1.5           0.2  Iris-setosa\n",
            "4   5            5.0           3.6            1.4           0.2  Iris-setosa\n",
            "\n",
            "✅ Model Accuracy: 100.00%\n",
            "\n",
            "Classification Report:\n",
            "                  precision    recall  f1-score   support\n",
            "\n",
            "    Iris-setosa       1.00      1.00      1.00        10\n",
            "Iris-versicolor       1.00      1.00      1.00         9\n",
            " Iris-virginica       1.00      1.00      1.00        11\n",
            "\n",
            "       accuracy                           1.00        30\n",
            "      macro avg       1.00      1.00      1.00        30\n",
            "   weighted avg       1.00      1.00      1.00        30\n",
            "\n",
            "Confusion Matrix:\n",
            " [[10  0  0]\n",
            " [ 0  9  0]\n",
            " [ 0  0 11]]\n",
            "\n",
            "✅ Model saved as 'iris_classifier.pkl'\n",
            "\n",
            "🌸 Enter flower measurements to predict the Iris species:\n",
            "Sepal Length (cm): 5.1\n",
            "Sepal Width (cm): 3.5\n",
            "Petal Length (cm): 1.4\n",
            "Petal Width (cm): 0.2\n",
            "\n",
            "🌼 Predicted Iris Species: Iris-setosa\n",
            "\n",
            "Predict another flower? (y/n): n\n",
            "👋 Thank you for using the Iris Classifier!\n"
          ]
        }
      ],
      "source": [
        "# Import libraries\n",
        "import pandas as pd\n",
        "import numpy as np\n",
        "from sklearn.model_selection import train_test_split\n",
        "from sklearn.preprocessing import LabelEncoder\n",
        "from sklearn.ensemble import RandomForestClassifier\n",
        "from sklearn.metrics import accuracy_score, classification_report, confusion_matrix\n",
        "import joblib\n",
        "import warnings\n",
        "warnings.filterwarnings(\"ignore\")\n",
        "\n",
        "# Load dataset\n",
        "df = pd.read_csv('/content/Iris.csv')\n",
        "print(\"📊 Sample Data:\\n\", df.head())\n",
        "\n",
        "# Drop Id column if present\n",
        "if 'Id' in df.columns:\n",
        "    df.drop('Id', axis=1, inplace=True)\n",
        "\n",
        "# Encode target column\n",
        "le = LabelEncoder()\n",
        "df['Species'] = le.fit_transform(df['Species'])\n",
        "\n",
        "# Features and target\n",
        "X = df.drop('Species', axis=1)\n",
        "y = df['Species']\n",
        "\n",
        "# Train/test split\n",
        "X_train, X_test, y_train, y_test = train_test_split(X, y, test_size=0.2, random_state=42)\n",
        "\n",
        "# Model training\n",
        "model = RandomForestClassifier(random_state=42)\n",
        "model.fit(X_train, y_train)\n",
        "\n",
        "# Evaluation\n",
        "y_pred = model.predict(X_test)\n",
        "accuracy = accuracy_score(y_test, y_pred)\n",
        "\n",
        "print(f\"\\n✅ Model Accuracy: {accuracy * 100:.2f}%\")\n",
        "print(\"\\nClassification Report:\\n\", classification_report(y_test, y_pred, target_names=le.classes_))\n",
        "print(\"Confusion Matrix:\\n\", confusion_matrix(y_test, y_pred))\n",
        "\n",
        "# Save the model and label encoder\n",
        "joblib.dump(model, 'iris_classifier.pkl')\n",
        "joblib.dump(le, 'label_encoder.pkl')\n",
        "print(\"\\n✅ Model saved as 'iris_classifier.pkl'\")\n",
        "\n",
        "# Function for prediction based on user input\n",
        "def predict_iris():\n",
        "    print(\"\\n🌸 Enter flower measurements to predict the Iris species:\")\n",
        "\n",
        "    try:\n",
        "        sl = float(input(\"Sepal Length (cm): \"))\n",
        "        sw = float(input(\"Sepal Width (cm): \"))\n",
        "        pl = float(input(\"Petal Length (cm): \"))\n",
        "        pw = float(input(\"Petal Width (cm): \"))\n",
        "    except ValueError:\n",
        "        print(\"❌ Invalid input! Please enter numeric values.\")\n",
        "        return\n",
        "\n",
        "    user_data = np.array([[sl, sw, pl, pw]])\n",
        "    prediction = model.predict(user_data)[0]\n",
        "    predicted_class = le.inverse_transform([prediction])[0]\n",
        "\n",
        "    print(f\"\\n🌼 Predicted Iris Species: {predicted_class}\")\n",
        "\n",
        "# Run prediction loop\n",
        "if __name__ == \"__main__\":\n",
        "    while True:\n",
        "        predict_iris()\n",
        "        cont = input(\"\\nPredict another flower? (y/n): \").lower()\n",
        "        if cont != 'y':\n",
        "            print(\"👋 Thank you for using the Iris Classifier!\")\n",
        "            break\n"
      ]
    }
  ]
}